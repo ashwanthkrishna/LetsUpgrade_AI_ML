#!/usr/bin/env python
# coding: utf-8

# # Program to find first 20 non even prime natural number

# In[3]:


n = int(input("prime numbers u want to print: "))
no = range(1, n*10)
primeno = []
for num in no:
    if num > 2 and len(primeno) <= n-1:
        for i in range(2, num):
            if (num % i) == 0:
                break
        else:
            primeno.append(num)
print("\nHere are the first", n,  " non-even prime numbers: \n")
for x in primeno:
    print(x, end = " ")


# # Implement 15 functions in string

# In[10]:


a = "ashwanth"
b = a.capitalize()
print(b)


# In[11]:


c =a.casefold()
print(c)


# In[20]:


d =a.find('h')
print(d)


# In[21]:


a.count('a')


# In[22]:


a.index('h')


# In[23]:


a.isalpha()


# In[24]:


a.islower()


# In[25]:


a.isnumeric()


# In[28]:


a.isupper()


# In[26]:


a.istitle()


# In[31]:


f="he is a good boy"
f.replace('he','ashwanth')


# In[34]:


f.partition('is')


# In[35]:


f.split('a')


# In[36]:


f.title()


# In[37]:


f.upper()


# # Given string is palindrome or anagram and display message according to the user

# In[61]:


l1=input("enter the string: ")
l2=input("enter the string: ")
if(l1[::]) == (l1[::-1]):
    print("palindrome")
elif(sorted(l1)== sorted(l2)): 
    print("anagram")
else:
    print("None of them")


# # Function to remove all additional characters from the string and convert to lowercase

# In[2]:


def removespecialcharacter(s): 
    t = "" 
    for i in s: 
        if (i >= 'A' and i <= 'Z') or (i >= 'a' and i <= 'z'): 
            t += i 
    print(t) 
s = "ashwanth@ is #$ good Boy"
a=removespecialcharacter(s) 


# In[ ]:





# In[ ]:




