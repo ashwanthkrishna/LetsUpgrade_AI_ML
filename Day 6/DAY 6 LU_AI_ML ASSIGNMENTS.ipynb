#!/usr/bin/env python
# coding: utf-8

# # Gmail account and display company name

# In[10]:


st = input("Enter the email: ").split("@")[1].split(".")[0]
print(st)


# # Comma separated sequence and sort 

# In[41]:


lst =input("Enter the sequence: ").split(',')
lst.sort()
lst_sorted =','.join(i for i in lst)
print(lst_sorted)


# # sets and its functions

# Sets
# A set is an unordered collection of iterable data which has no duplicate element and is also mutable
# 
# Since set is unordered and unindexed, the elements of a set cannot be accessed by their indexes, but as set has iterable data the elements can be accessed using a for loop
# 
# The elements of the set cannot be edited but new elements can be added into the set using the following methods:
# 
# add() is used to add single element
# update() is used to add multiple elements
# The elements can be removed from the sets using the following methods:
# 
# remove()
# discard()
# The difference between these methods is that if the element the user wants to remove is not present in the set remove() raises an error where as discard() doesn't
# 
# As set being unordered when we use pop() method we cannot predict which element is being poped out
# 
# clear() can be used to empty the set and del can be used to delete the set completely
# 
# Set class represents the mathematical notion of a set which allows the user to perform the basic mathematical operations of a set namely, symmetric_difference(), union(), intersection(), difference(), isdisjoint()
# 
# Similarly copy(), issubset(), issuperset() can be used on a set

# In[63]:


set1 ={1,2,3,4,5}
type(set1)


# In[66]:


set1.add(7);


# In[67]:


set1


# In[71]:


set1.update([9,6,4,9])
set1


# In[73]:


set2 = set1.copy()
set2


# In[79]:


setnew = {'ash','ranjith','raj','shenba','sush'}
set4 ={'janani','uma','jamuna','sush','ash'}
out = setnew.difference(set4)
out


# In[86]:


x = {"apple", "banana", "cherry"}
y = {"google", "microsoft", "apple"}
x.difference_update(y) 
print(x)


# In[96]:


x = {"apple", "banana", "cherry"}
y = {"google", "microsoft", "apple"}
z = x.intersection(y) 
print(z)


# In[99]:


x.intersection_update(y) 
print(x)


# In[105]:


set4.pop()


# In[106]:


set4.issubset(setnew)


# In[107]:


set4.issuperset(setnew)


# # Find the missing number in list

# In[123]:


lst = set(int(i)for i in input().split())
full = set([i for i in range(1, max(lst)+1)])
print(*(lst ^ full))


# # Remove duplicates in list

# In[125]:


num = [int(i) for i in input().split()]
print(*sorted(set(num), key = num.index))


# In[ ]:




