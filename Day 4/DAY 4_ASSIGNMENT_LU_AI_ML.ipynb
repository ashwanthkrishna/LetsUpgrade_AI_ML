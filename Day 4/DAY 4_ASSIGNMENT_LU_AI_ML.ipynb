{
 "cells": [
  {
   "cell_type": "markdown",
   "metadata": {},
   "source": [
    "# Program for Addition, Subtraction, Multiplication, Division , floor division and modulo on complex numbers"
   ]
  },
  {
   "cell_type": "code",
   "execution_count": 11,
   "metadata": {},
   "outputs": [
    {
     "name": "stdout",
     "output_type": "stream",
     "text": [
      "Addition of (7+8j) and (3+5j) is (10+13j)\n",
      "Subtraction of a and b is:  (3+5j)\n",
      "multiplication of a and b is:  (-19+59j)\n",
      "Division of a and b is:  (1.7941176470588234-0.3235294117647059j)\n"
     ]
    }
   ],
   "source": [
    "import mpmath\n",
    "a = 7 + 8j\n",
    "b = 3 + 5j\n",
    "c = a + b\n",
    "print(\"Addition of {} and {} is {}\".format(a,b,c))\n",
    "d = a - b\n",
    "print(\"Subtraction of a and b is: \", b)\n",
    "e = a * b # (7 + 8 j)* (3 + 5j)==>21 + 35j +24j + 40*-1 => -19 + 59j\n",
    "print(\"multiplication of a and b is: \", e)\n",
    "f = a / b #(7 + 8j)*(3 - 5j)/(3 + 5j)*(3 - 5j)\n",
    "print(\"Division of a and b is: \", f)\n",
    "# g = a // b\n",
    "# print(\"floor division of a and b is: \", g)\n",
    "# We cant able to perform floor division and modulo operations on complex number\n",
    "\n",
    "\n"
   ]
  },
  {
   "cell_type": "markdown",
   "metadata": {},
   "source": [
    "# Research about Range Function()"
   ]
  },
  {
   "cell_type": "code",
   "execution_count": null,
   "metadata": {},
   "outputs": [],
   "source": [
    "Range function is used for getting the sequence of number by specifying the starting range and ending range and it will not include ending number and it wil incrementing by 1 .\n",
    "we can also built custom range function as it will also able increment by 2, 3 etc as we specified.\n",
    "By default range function has two arguments starting and ending range. We can also use 3 rd argument for step and it will be used for incrementing the numbers.\n",
    "\n",
    "Eg:\n",
    "    range(1,10) by using for loop we can get sequence of number from 1 to 9\n",
    "    "
   ]
  },
  {
   "cell_type": "code",
   "execution_count": 21,
   "metadata": {},
   "outputs": [
    {
     "name": "stdout",
     "output_type": "stream",
     "text": [
      "1\n",
      "3\n",
      "5\n",
      "7\n",
      "9\n",
      "-----------------------\n",
      "2\n",
      "3\n",
      "4\n",
      "5\n",
      "6\n",
      "7\n"
     ]
    }
   ],
   "source": [
    "a = range(1,10,2)\n",
    "for i in a:\n",
    "    print(i)\n",
    "print(\"-----------------------\")\n",
    "b = range(2,8)\n",
    "for i in b:\n",
    "    print(i)"
   ]
  },
  {
   "cell_type": "markdown",
   "metadata": {},
   "source": [
    "# Consider two numbers. If the subtraction result  is greater than 25, print multiplication result or else print divison of two numbers"
   ]
  },
  {
   "cell_type": "code",
   "execution_count": 26,
   "metadata": {},
   "outputs": [
    {
     "name": "stdout",
     "output_type": "stream",
     "text": [
      "Enter the first number: 40\n",
      "Enter the second number: 12\n",
      "Subtraction of two numbers is: 28\n",
      "multiplication of two numbers: 480\n"
     ]
    }
   ],
   "source": [
    "a = int(input(\"Enter the first number: \" ))\n",
    "b = int(input(\"Enter the second number: \" ))\n",
    "if(a - b > 25):\n",
    "    print(\"Subtraction of two numbers is:\",a - b)\n",
    "    print(\"multiplication of two numbers:\",a * b)\n",
    "else:\n",
    "    print(\"Subtraction of two numbers is:\",a - b)\n",
    "    print(\"Division of two numbers: \",a / b)"
   ]
  },
  {
   "cell_type": "markdown",
   "metadata": {},
   "source": [
    "# Consider the list of 10 integer values. If the number of list is divisible by 2, print the result as \"square of that number minus 2\""
   ]
  },
  {
   "cell_type": "code",
   "execution_count": 42,
   "metadata": {},
   "outputs": [
    {
     "name": "stdout",
     "output_type": "stream",
     "text": [
      "2 square of that number minus 2\n",
      "4 square of that number minus 2\n",
      "6 square of that number minus 2\n",
      "8 square of that number minus 2\n",
      "10 square of that number minus 2\n"
     ]
    }
   ],
   "source": [
    "lst =[1,2,3,4,5,6,7,8,9,10]\n",
    "for i in lst:\n",
    "    if(i%2 ==0):\n",
    "        print(i,\"square of that number minus 2\")"
   ]
  },
  {
   "cell_type": "markdown",
   "metadata": {},
   "source": [
    "# Consider the list of 10 numbers. Print all the elements in the list which are greater than 7 when that number is divisible by 2"
   ]
  },
  {
   "cell_type": "code",
   "execution_count": 38,
   "metadata": {},
   "outputs": [
    {
     "name": "stdout",
     "output_type": "stream",
     "text": [
      "The number greater than 7 and divisible by 2 in list is  8\n",
      "The number greater than 7 and divisible by 2 in list is  10\n",
      "The number greater than 7 and divisible by 2 in list is  12\n",
      "The number greater than 7 and divisible by 2 in list is  14\n"
     ]
    }
   ],
   "source": [
    "lst2 = [5,6,7,8,9,10,11,12,13,14]\n",
    "for i in lst2:\n",
    "    if(i > 7 and i%2==0):\n",
    "        print(\"The number greater than 7 and divisible by 2 in list is \",i)"
   ]
  },
  {
   "cell_type": "code",
   "execution_count": null,
   "metadata": {},
   "outputs": [],
   "source": []
  }
 ],
 "metadata": {
  "kernelspec": {
   "display_name": "Python 3",
   "language": "python",
   "name": "python3"
  },
  "language_info": {
   "codemirror_mode": {
    "name": "ipython",
    "version": 3
   },
   "file_extension": ".py",
   "mimetype": "text/x-python",
   "name": "python",
   "nbconvert_exporter": "python",
   "pygments_lexer": "ipython3",
   "version": "3.7.6"
  }
 },
 "nbformat": 4,
 "nbformat_minor": 4
}
